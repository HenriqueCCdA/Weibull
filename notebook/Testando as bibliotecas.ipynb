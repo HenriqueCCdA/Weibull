{
 "cells": [
  {
   "cell_type": "code",
   "execution_count": 1,
   "metadata": {},
   "outputs": [],
   "source": [
    "# nucleo escrito em python/numpy\n",
    "import Weibull as pwb\n",
    "# nucleo escrito em C\n",
    "import weibull.weibull_C as cwb\n",
    "\n",
    "import numpy as np\n",
    "from timeit import default_timer"
   ]
  },
  {
   "cell_type": "markdown",
   "metadata": {},
   "source": [
    "***\n",
    "## <span style=\"color:red\"> Testando as minha funções que calcula b e c\n",
    "***\n",
    "    \n",
    "Objetivo é comparar o tempo de execução da função get_b_c implementada em diferentes linguagens. O módulo Weibull foi implementado em python/numpy. O módulo weibull.weibull_C chama um funcção escrita em C."
   ]
  },
  {
   "cell_type": "markdown",
   "metadata": {},
   "source": [
    "## Parametros do teste\n",
    "\n",
    "$\\mu_w$    : media da weibull\n",
    "\n",
    "$\\sigma_w$ : desvio padrao da weibull\n",
    "\n",
    "$N_a$      : Numero de amostras"
   ]
  },
  {
   "cell_type": "code",
   "execution_count": 2,
   "metadata": {},
   "outputs": [],
   "source": [
    "mu         = 360.98 # media\n",
    "sig        = 15.55  # desvio padrão\n",
    "n_amostras = 500    # numero de amostras\n",
    "\n",
    "maxIt= 100000 "
   ]
  },
  {
   "cell_type": "markdown",
   "metadata": {},
   "source": [
    "## Bibiloteca escrita em python"
   ]
  },
  {
   "cell_type": "code",
   "execution_count": 3,
   "metadata": {},
   "outputs": [
    {
     "name": "stdout",
     "output_type": "stream",
     "text": [
      "Total de experimentos [100.00]%\n",
      "3.347839886237999 +- 0.19517252568865706 s\n"
     ]
    }
   ],
   "source": [
    "tempo_py = list()\n",
    "j=0\n",
    "for i in range(n_amostras):\n",
    "\n",
    "    start_time = default_timer()\n",
    "    _, _, _ = pwb.get_b_c(mu, sig, maxIt= maxIt, tol = 1e-15, alf=1.0, ver = False)\n",
    "    t = default_timer() - start_time\n",
    "        \n",
    "    tempo_py.append(t)\n",
    "    # ...\n",
    "    j+=1\n",
    "    if(j == 5):\n",
    "      j = 0\n",
    "      print(f'\\rTotal de experimentos [{(i+1)/n_amostras*100:.2f}]%', end='')\n",
    "    # ........................................................... \n",
    "    \n",
    "    media_py = np.mean(tempo_py)\n",
    "    desvio_py= np.std(tempo_py)\n",
    "    \n",
    "print(f'\\n{media_py} +- {desvio_py} s')"
   ]
  },
  {
   "cell_type": "code",
   "execution_count": 4,
   "metadata": {},
   "outputs": [
    {
     "name": "stdout",
     "output_type": "stream",
     "text": [
      "Iter = 100000\n",
      "b = 29.068\n",
      "c = 367.867\n"
     ]
    }
   ],
   "source": [
    "b_hcca, c_hcca, it = pwb.get_b_c(mu, sig, maxIt= maxIt, tol = 1e-15, alf=1.0, ver = False)\n",
    "print(f\"Iter = {it}\\nb = {b_hcca:.3f}\\nc = {c_hcca:.3f}\")"
   ]
  },
  {
   "cell_type": "markdown",
   "metadata": {},
   "source": [
    "### Erro nas medidas"
   ]
  },
  {
   "cell_type": "code",
   "execution_count": 5,
   "metadata": {},
   "outputs": [
    {
     "name": "stdout",
     "output_type": "stream",
     "text": [
      "|res_mu|  = 1.137e-13\n",
      "|res_sig| = 2.172e-12\n"
     ]
    }
   ],
   "source": [
    "res_mu  =  np.sqrt((mu - pwb.media(b_hcca, c_hcca))**2)\n",
    "res_sig =  np.sqrt((sig - pwb.sig(b_hcca, c_hcca))**2)\n",
    "print(f'|res_mu|  = {res_mu:.3e}\\n|res_sig| = {res_sig:.3e}')"
   ]
  },
  {
   "cell_type": "markdown",
   "metadata": {},
   "source": [
    "## Bibiloteca escrita em C"
   ]
  },
  {
   "cell_type": "code",
   "execution_count": 6,
   "metadata": {},
   "outputs": [],
   "source": [
    "lib = cwb.Weibull_C()"
   ]
  },
  {
   "cell_type": "code",
   "execution_count": 7,
   "metadata": {},
   "outputs": [
    {
     "name": "stdout",
     "output_type": "stream",
     "text": [
      "Total de experimentos [100.00]%\n",
      "0.013201037115997225 +- 0.0016423597885840118 s\n"
     ]
    }
   ],
   "source": [
    "tempo_C = list()\n",
    "for i in range(n_amostras):\n",
    "    \n",
    "    start_time = default_timer()\n",
    "    _, _, _ = lib.weibul_get_b_c(mu, sig, tol = 1.0e-15, max_iter=maxIt, alf=1.0)\n",
    "    t = default_timer() - start_time\n",
    "    \n",
    "    tempo_C.append(t)\n",
    "    # ...\n",
    "    j+=1\n",
    "    if(j == 5):\n",
    "      j = 0\n",
    "      print(f'\\rTotal de experimentos [{(i+1)/n_amostras*100:.2f}]%', end='')\n",
    "    # ...........................................................     \n",
    "    media_c = np.mean(tempo_C)\n",
    "    desvio_c= np.std(tempo_C)\n",
    "    \n",
    "print(f'\\n{media_c} +- {desvio_c} s')"
   ]
  },
  {
   "cell_type": "code",
   "execution_count": 8,
   "metadata": {},
   "outputs": [
    {
     "name": "stdout",
     "output_type": "stream",
     "text": [
      "Iter = 100000\n",
      "b = 29.068\n",
      "c = 367.867\n"
     ]
    }
   ],
   "source": [
    "b_hcca, c_hcca, it = lib.weibul_get_b_c(mu, sig, tol = 1.0e-15, max_iter=maxIt, alf=1.0)\n",
    "print(f\"Iter = {it}\\nb = {b_hcca:.3f}\\nc = {c_hcca:.3f}\")"
   ]
  },
  {
   "cell_type": "markdown",
   "metadata": {},
   "source": [
    "### Erro nas medidas"
   ]
  },
  {
   "cell_type": "code",
   "execution_count": 9,
   "metadata": {},
   "outputs": [
    {
     "name": "stdout",
     "output_type": "stream",
     "text": [
      "|res_mu|  = 0.000e+00\n",
      "|res_sig| = 3.002e-13\n"
     ]
    }
   ],
   "source": [
    "res_mu  =  np.sqrt((mu - lib.media(b_hcca, c_hcca))**2)\n",
    "res_sig =  np.sqrt((sig - lib.std(b_hcca, c_hcca))**2)\n",
    "print(f'|res_mu|  = {res_mu:.3e}\\n|res_sig| = {res_sig:.3e}')"
   ]
  },
  {
   "cell_type": "markdown",
   "metadata": {},
   "source": [
    "***\n",
    "# <span style=\"color:red\"> Plotando o erros\n",
    "***\n",
    "    \n",
    "$\\mu$    : média dos tempos\n",
    "\n",
    "$\\sigma$ : desvio padrão dos tempos"
   ]
  },
  {
   "cell_type": "code",
   "execution_count": 10,
   "metadata": {},
   "outputs": [],
   "source": [
    "import matplotlib.pyplot as plt"
   ]
  },
  {
   "cell_type": "code",
   "execution_count": 11,
   "metadata": {},
   "outputs": [
    {
     "name": "stdout",
     "output_type": "stream",
     "text": [
      "Tempo médio\n",
      "LibC  : (0.0132 +- 0.0016) s\n",
      "Python: (3.3478 +- 0.1952) s\n"
     ]
    },
    {
     "data": {
      "image/png": "[encoded data removed]",
      "text/plain": [
       "<Figure size 720x288 with 2 Axes>"
      ]
     },
     "metadata": {
      "needs_background": "light"
     },
     "output_type": "display_data"
    }
   ],
   "source": [
    "fig,(ax1,ax2) = plt.subplots(1,2, figsize = (10,4))\n",
    "\n",
    "ax1.hist(tempo_C, bins=50, density=False, alpha = 0.5)\n",
    "ax2.hist(tempo_py, bins=50, density=False, alpha = 0.5)\n",
    "\n",
    "ax1.set_title('C Lib',fontsize=16)\n",
    "ax2.set_title('Python Module',fontsize=16)\n",
    "ax1.set_ylabel('Frequency',fontsize=12)\n",
    "ax1.set_xlabel('Wall Time(s)',fontsize=12)\n",
    "ax2.set_xlabel('Wall Time(s)',fontsize=12)\n",
    "\n",
    "# numeros de divisos em x\n",
    "ax1.xaxis.set_major_locator(plt.MaxNLocator(5))\n",
    "ax2.xaxis.set_major_locator(plt.MaxNLocator(5))\n",
    "\n",
    "# linha da media\n",
    "ax1.axvline(media_c, color = 'r', ls='--', label=r'$\\mu$')\n",
    "ax2.axvline(media_py, color = 'r', ls='--', label=r'$\\mu$')\n",
    "\n",
    "# desvio padrao\n",
    "ax1.axvline(media_c + desvio_c, color = 'black', ls=':', label=r'$\\mu + \\sigma$')\n",
    "ax1.axvline(media_c - desvio_c, color = 'black', ls=':', label=r'$\\mu - \\sigma$')\n",
    "\n",
    "# desvio padrao\n",
    "ax2.axvline(media_py + desvio_py, color = 'black', ls=':', label=r'$\\mu + \\sigma$')\n",
    "ax2.axvline(media_py - desvio_py, color = 'black', ls=':', label=r'$\\mu - \\sigma$')\n",
    "\n",
    "ax1.legend()\n",
    "ax2.legend()\n",
    "\n",
    "print(f'Tempo médio')\n",
    "print(f'LibC  : ({media_c:.4f} +- {desvio_c:.4f}) s')\n",
    "print(f'Python: ({media_py:.4f} +- {desvio_py:.4f}) s')"
   ]
  }
 ],
 "metadata": {
  "kernelspec": {
   "display_name": "Python 3",
   "language": "python",
   "name": "python3"
  },
  "language_info": {
   "codemirror_mode": {
    "name": "ipython",
    "version": 3
   },
   "file_extension": ".py",
   "mimetype": "text/x-python",
   "name": "python",
   "nbconvert_exporter": "python",
   "pygments_lexer": "ipython3",
   "version": "3.7.6"
  }
 },
 "nbformat": 4,
 "nbformat_minor": 4
}
